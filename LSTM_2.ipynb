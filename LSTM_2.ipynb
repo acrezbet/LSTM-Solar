{
 "cells": [
  {
   "cell_type": "markdown",
   "metadata": {},
   "source": [
    "# Import Libraries "
   ]
  },
  {
   "cell_type": "code",
   "execution_count": 2,
   "metadata": {},
   "outputs": [
    {
     "name": "stderr",
     "output_type": "stream",
     "text": [
      "Using TensorFlow backend.\n"
     ]
    }
   ],
   "source": [
    "from math import sqrt\n",
    "from numpy import concatenate\n",
    "import matplotlib.pyplot as plt\n",
    "import pandas as pd\n",
    "from datetime import datetime\n",
    "from sklearn.preprocessing import MinMaxScaler\n",
    "from sklearn.preprocessing import LabelEncoder\n",
    "from sklearn.metrics import mean_squared_error\n",
    "import numpy as np\n",
    "import seaborn as sns\n",
    "from keras.models import Sequential\n",
    "from keras.layers import Dense\n",
    "from keras.layers import LSTM\n",
    "import glob\n",
    "from datetime import datetime\n",
    "from keras.layers import Dropout\n",
    "import numpy  as np"
   ]
  },
  {
   "cell_type": "code",
   "execution_count": null,
   "metadata": {},
   "outputs": [],
   "source": []
  },
  {
   "cell_type": "markdown",
   "metadata": {},
   "source": [
    "#### https://machinelearningmastery.com/gentle-introduction-long-short-term-memory-networks-experts/"
   ]
  },
  {
   "cell_type": "markdown",
   "metadata": {},
   "source": [
    "# Load the Data"
   ]
  },
  {
   "cell_type": "markdown",
   "metadata": {},
   "source": [
    "## Loading the DataFrame and resample"
   ]
  },
  {
   "cell_type": "code",
   "execution_count": 8,
   "metadata": {},
   "outputs": [],
   "source": [
    "data=pd.read_excel('Data_examplemod.xlsx',infer_datetime_format=True, index_col=\"Unnamed: 0\")"
   ]
  },
  {
   "cell_type": "markdown",
   "metadata": {},
   "source": [
    "### Resample 1hr"
   ]
  },
  {
   "cell_type": "code",
   "execution_count": 9,
   "metadata": {},
   "outputs": [
    {
     "data": {
      "text/html": [
       "<div>\n",
       "<style scoped>\n",
       "    .dataframe tbody tr th:only-of-type {\n",
       "        vertical-align: middle;\n",
       "    }\n",
       "\n",
       "    .dataframe tbody tr th {\n",
       "        vertical-align: top;\n",
       "    }\n",
       "\n",
       "    .dataframe thead th {\n",
       "        text-align: right;\n",
       "    }\n",
       "</style>\n",
       "<table border=\"1\" class=\"dataframe\">\n",
       "  <thead>\n",
       "    <tr style=\"text-align: right;\">\n",
       "      <th></th>\n",
       "      <th>Wind Direction (Mean) [°]</th>\n",
       "      <th>Wind Speed [m/s] (Mean) [m/s]</th>\n",
       "      <th>Total rain (Mean) [mm]</th>\n",
       "      <th>Current Rain (Mean) [mm]</th>\n",
       "      <th>Humidity (Mean) [%]</th>\n",
       "      <th>Temperature (Mean) [°C]</th>\n",
       "      <th>Atmospheric Pressure (Mean) [hPa]</th>\n",
       "      <th>Temperature: Ambient (Mean) [°C]</th>\n",
       "      <th>Temperature: Module (Mean) [°C]</th>\n",
       "      <th>Radiation Power (Tilted) (Mean) [W/m²]</th>\n",
       "      <th>AC Power (norm) (Mean) [kW/kWp]</th>\n",
       "    </tr>\n",
       "  </thead>\n",
       "  <tbody>\n",
       "    <tr>\n",
       "      <th>2018-12-01 00:00:00</th>\n",
       "      <td>157.136668</td>\n",
       "      <td>1.7000</td>\n",
       "      <td>1793.233317</td>\n",
       "      <td>0.003333</td>\n",
       "      <td>78.713333</td>\n",
       "      <td>0.283333</td>\n",
       "      <td>1008.203328</td>\n",
       "      <td>0.2300</td>\n",
       "      <td>0.0900</td>\n",
       "      <td>0.0</td>\n",
       "      <td>0.0</td>\n",
       "    </tr>\n",
       "    <tr>\n",
       "      <th>2018-12-01 01:00:00</th>\n",
       "      <td>145.937496</td>\n",
       "      <td>2.0025</td>\n",
       "      <td>1793.404999</td>\n",
       "      <td>0.005000</td>\n",
       "      <td>84.445000</td>\n",
       "      <td>0.047500</td>\n",
       "      <td>1007.825012</td>\n",
       "      <td>0.0675</td>\n",
       "      <td>0.0575</td>\n",
       "      <td>0.0</td>\n",
       "      <td>0.0</td>\n",
       "    </tr>\n",
       "    <tr>\n",
       "      <th>2018-12-01 02:00:00</th>\n",
       "      <td>147.695000</td>\n",
       "      <td>1.8550</td>\n",
       "      <td>1793.630005</td>\n",
       "      <td>0.000000</td>\n",
       "      <td>86.740000</td>\n",
       "      <td>0.130000</td>\n",
       "      <td>1007.744995</td>\n",
       "      <td>0.1350</td>\n",
       "      <td>0.0700</td>\n",
       "      <td>0.0</td>\n",
       "      <td>0.0</td>\n",
       "    </tr>\n",
       "  </tbody>\n",
       "</table>\n",
       "</div>"
      ],
      "text/plain": [
       "                     Wind Direction (Mean) [°]  \\\n",
       "2018-12-01 00:00:00                 157.136668   \n",
       "2018-12-01 01:00:00                 145.937496   \n",
       "2018-12-01 02:00:00                 147.695000   \n",
       "\n",
       "                     Wind Speed [m/s] (Mean) [m/s]   Total rain (Mean) [mm]  \\\n",
       "2018-12-01 00:00:00                          1.7000             1793.233317   \n",
       "2018-12-01 01:00:00                          2.0025             1793.404999   \n",
       "2018-12-01 02:00:00                          1.8550             1793.630005   \n",
       "\n",
       "                     Current Rain (Mean) [mm]   Humidity (Mean) [%]  \\\n",
       "2018-12-01 00:00:00                  0.003333             78.713333   \n",
       "2018-12-01 01:00:00                  0.005000             84.445000   \n",
       "2018-12-01 02:00:00                  0.000000             86.740000   \n",
       "\n",
       "                     Temperature (Mean) [°C]  \\\n",
       "2018-12-01 00:00:00                 0.283333   \n",
       "2018-12-01 01:00:00                 0.047500   \n",
       "2018-12-01 02:00:00                 0.130000   \n",
       "\n",
       "                     Atmospheric Pressure (Mean) [hPa]  \\\n",
       "2018-12-01 00:00:00                        1008.203328   \n",
       "2018-12-01 01:00:00                        1007.825012   \n",
       "2018-12-01 02:00:00                        1007.744995   \n",
       "\n",
       "                     Temperature: Ambient (Mean) [°C]  \\\n",
       "2018-12-01 00:00:00                            0.2300   \n",
       "2018-12-01 01:00:00                            0.0675   \n",
       "2018-12-01 02:00:00                            0.1350   \n",
       "\n",
       "                     Temperature: Module (Mean) [°C]  \\\n",
       "2018-12-01 00:00:00                           0.0900   \n",
       "2018-12-01 01:00:00                           0.0575   \n",
       "2018-12-01 02:00:00                           0.0700   \n",
       "\n",
       "                     Radiation Power (Tilted) (Mean) [W/m²]  \\\n",
       "2018-12-01 00:00:00                                     0.0   \n",
       "2018-12-01 01:00:00                                     0.0   \n",
       "2018-12-01 02:00:00                                     0.0   \n",
       "\n",
       "                     AC Power (norm) (Mean) [kW/kWp]  \n",
       "2018-12-01 00:00:00                              0.0  \n",
       "2018-12-01 01:00:00                              0.0  \n",
       "2018-12-01 02:00:00                              0.0  "
      ]
     },
     "metadata": {},
     "output_type": "display_data"
    },
    {
     "data": {
      "text/plain": [
       "(5089, 11)"
      ]
     },
     "metadata": {},
     "output_type": "display_data"
    }
   ],
   "source": [
    "data=data.resample('1H').mean()\n",
    "display(data.head(3), data.shape)"
   ]
  },
  {
   "cell_type": "markdown",
   "metadata": {},
   "source": [
    "### target= radiation(only) "
   ]
  },
  {
   "cell_type": "code",
   "execution_count": 10,
   "metadata": {},
   "outputs": [
    {
     "data": {
      "text/plain": [
       "(5089, 10)"
      ]
     },
     "execution_count": 10,
     "metadata": {},
     "output_type": "execute_result"
    }
   ],
   "source": [
    "data=data.iloc[:,:10]\n",
    "data.shape"
   ]
  },
  {
   "cell_type": "markdown",
   "metadata": {},
   "source": [
    "# Data Preparation"
   ]
  },
  {
   "cell_type": "markdown",
   "metadata": {},
   "source": [
    "### The data is converted into surperviced learning problem. we want to look the data for a week before to predict the actual week. So it is nedded to look (24*7) hours. \n",
    "https://machinelearningmastery.com/convert-time-series-supervised-learning-problem-python/"
   ]
  },
  {
   "cell_type": "code",
   "execution_count": 11,
   "metadata": {},
   "outputs": [],
   "source": [
    "lookback_hours = 24*7\n",
    "n_features = 10\n",
    "def series_to_supervised(data, n_in=1, n_out=1, dropnan=True):\n",
    "    n_vars = 1 if type(data) is list else data.shape[1]\n",
    "    df =pd.DataFrame(data)\n",
    "    cols, names = list(), list()\n",
    "    # input sequence (t-n, ... t-1)\n",
    "    for i in range(n_in, 0, -1):\n",
    "        cols.append(df.shift(i))\n",
    "        names += [('var%d(t-%d)' % (j+1, i)) for j in range(n_vars)]\n",
    "    # forecast sequence (t, t+1, ... t+n)\n",
    "    for i in range(0, n_out):\n",
    "        cols.append(df.shift(-i))\n",
    "        if i == 0:\n",
    "            names += [('var%d(t)' % (j+1)) for j in range(n_vars)]\n",
    "        else:\n",
    "            names += [('var%d(t+%d)' % (j+1, i)) for j in range(n_vars)]\n",
    "    # put it all together\n",
    "    agg = pd.concat(cols, axis=1)\n",
    "    agg.columns = names\n",
    "    # drop rows with NaN values\n",
    "    if dropnan:\n",
    "        agg.dropna(inplace=True)\n",
    "    return agg\n"
   ]
  },
  {
   "cell_type": "markdown",
   "metadata": {},
   "source": [
    "## Data Normalization "
   ]
  },
  {
   "cell_type": "markdown",
   "metadata": {},
   "source": [
    "https://machinelearningmastery.com/how-to-scale-data-for-long-short-term-memory-networks-in-python/"
   ]
  },
  {
   "cell_type": "code",
   "execution_count": 12,
   "metadata": {},
   "outputs": [],
   "source": [
    "values = data.values    \n",
    "scaler = MinMaxScaler()\n",
    "scaled = scaler.fit_transform(values)"
   ]
  },
  {
   "cell_type": "markdown",
   "metadata": {},
   "source": [
    "### Transform the dataframe in a supervised problem"
   ]
  },
  {
   "cell_type": "code",
   "execution_count": 13,
   "metadata": {},
   "outputs": [
    {
     "name": "stdout",
     "output_type": "stream",
     "text": [
      "(4921, 1690)\n"
     ]
    }
   ],
   "source": [
    "reframed=series_to_supervised(scaled,lookback_hours, n_out=1, dropnan=True)\n",
    "print(reframed.shape)  "
   ]
  },
  {
   "cell_type": "code",
   "execution_count": 14,
   "metadata": {},
   "outputs": [
    {
     "data": {
      "text/plain": [
       "Index(['var1(t-168)', 'var2(t-168)', 'var3(t-168)', 'var4(t-168)',\n",
       "       'var5(t-168)', 'var6(t-168)', 'var7(t-168)', 'var8(t-168)',\n",
       "       'var9(t-168)', 'var10(t-168)',\n",
       "       ...\n",
       "       'var1(t)', 'var2(t)', 'var3(t)', 'var4(t)', 'var5(t)', 'var6(t)',\n",
       "       'var7(t)', 'var8(t)', 'var9(t)', 'var10(t)'],\n",
       "      dtype='object', length=1690)"
      ]
     },
     "execution_count": 14,
     "metadata": {},
     "output_type": "execute_result"
    }
   ],
   "source": [
    "reframed.columns"
   ]
  },
  {
   "cell_type": "markdown",
   "metadata": {},
   "source": [
    "## split into train and test sets"
   ]
  },
  {
   "cell_type": "markdown",
   "metadata": {},
   "source": [
    "### It was choosen 20 weeks to train, that represents 70% of the samples. "
   ]
  },
  {
   "cell_type": "code",
   "execution_count": 15,
   "metadata": {},
   "outputs": [],
   "source": [
    "values = reframed.values\n",
    "weeks=20\n",
    "hours_day=24\n",
    "days_week=7\n",
    "row_split =weeks*hours_day*days_week\n",
    "train = values[:row_split, :]\n",
    "test = values[row_split:, :]"
   ]
  },
  {
   "cell_type": "code",
   "execution_count": 16,
   "metadata": {},
   "outputs": [
    {
     "data": {
      "text/plain": [
       "(1561, 1690)"
      ]
     },
     "execution_count": 16,
     "metadata": {},
     "output_type": "execute_result"
    }
   ],
   "source": [
    "test.shape"
   ]
  },
  {
   "cell_type": "markdown",
   "metadata": {},
   "source": [
    "#### 9 weeks"
   ]
  },
  {
   "cell_type": "code",
   "execution_count": 17,
   "metadata": {},
   "outputs": [],
   "source": [
    "test=test[:1512,:]"
   ]
  },
  {
   "cell_type": "markdown",
   "metadata": {},
   "source": [
    "## Spliting in X and y. "
   ]
  },
  {
   "cell_type": "markdown",
   "metadata": {},
   "source": [
    "### The fist columns that contains all the (t-i) data are using as input variables of the models, and the last column is the target , Radiation Power."
   ]
  },
  {
   "cell_type": "code",
   "execution_count": 18,
   "metadata": {},
   "outputs": [],
   "source": [
    "split_Xy=lookback_hours * n_features\n",
    "train_X, train_y = train[:, :split_Xy], train[:,-1]\n",
    "test_X, test_y = test[:, :split_Xy], test[:, -1]"
   ]
  },
  {
   "cell_type": "code",
   "execution_count": 19,
   "metadata": {},
   "outputs": [
    {
     "name": "stdout",
     "output_type": "stream",
     "text": [
      "(1512, 1680) (3360, 1680) (3360,) (1512,)\n"
     ]
    }
   ],
   "source": [
    "print(test_X.shape, train_X.shape, train_y.shape, test_y.shape ) \n"
   ]
  },
  {
   "cell_type": "markdown",
   "metadata": {},
   "source": [
    "## Reshape the train samples. "
   ]
  },
  {
   "cell_type": "markdown",
   "metadata": {},
   "source": [
    "### LSTM requires a 3D input [samples, n_steps, features]. In our case the samples are all the rows of the data, the n_steps is how many data Im looking to predict the actual value, and features is the columns of the data, how many types of variables Is was taken into account. \n",
    "https://machinelearningmastery.com/?s=input+LSTM&post_type=post&submit=Search\n",
    "https://machinelearningmastery.com/reshape-input-data-long-short-term-memory-networks-keras/\n",
    "https://medium.com/@shivajbd/understanding-input-and-output-shape-in-lstm-keras-c501ee95c65e"
   ]
  },
  {
   "cell_type": "code",
   "execution_count": 20,
   "metadata": {},
   "outputs": [
    {
     "name": "stdout",
     "output_type": "stream",
     "text": [
      "(3360, 168, 10) (1512, 168, 10)\n"
     ]
    }
   ],
   "source": [
    "train_X = train_X.reshape((train_X.shape[0], lookback_hours, n_features))\n",
    "test_X = test_X.reshape((test_X.shape[0], lookback_hours, n_features))\n",
    "print(train_X.shape, test_X.shape)"
   ]
  },
  {
   "cell_type": "markdown",
   "metadata": {},
   "source": [
    "# Neural Network"
   ]
  },
  {
   "cell_type": "markdown",
   "metadata": {},
   "source": [
    "## Define the model "
   ]
  },
  {
   "cell_type": "markdown",
   "metadata": {},
   "source": [
    "### LSTM https://medium.com/mlreview/understanding-lstm-and-its-diagrams-37e2f46f1714"
   ]
  },
  {
   "cell_type": "markdown",
   "metadata": {},
   "source": [
    "#### depth=1 \n",
    "#### nodes=50 nodes \n",
    "#### Dropout=0.5  \n",
    "#### optimizer=adam \n",
    "#### loss= mae"
   ]
  },
  {
   "cell_type": "markdown",
   "metadata": {},
   "source": [
    "### dropout\n",
    "https://machinelearningmastery.com/how-to-reduce-overfitting-with-dropout-regularization-in-keras/\n",
    "https://machinelearningmastery.com/use-dropout-lstm-networks-time-series-forecasting/"
   ]
  },
  {
   "cell_type": "markdown",
   "metadata": {},
   "source": [
    "### adam \n",
    "https://machinelearningmastery.com/adam-optimization-algorithm-for-deep-learning/"
   ]
  },
  {
   "cell_type": "markdown",
   "metadata": {},
   "source": [
    "### loss\n",
    "https://machinelearningmastery.com/loss-and-loss-functions-for-training-deep-learning-neural-networks/"
   ]
  },
  {
   "cell_type": "code",
   "execution_count": 21,
   "metadata": {},
   "outputs": [],
   "source": [
    "model = Sequential()\n",
    "model.add(LSTM(50, input_shape=(train_X.shape[1], train_X.shape[2])))\n",
    "model.add(Dropout(0.5))\n",
    "model.add(Dense(1))\n",
    "model.compile(loss='mae', optimizer='adam')"
   ]
  },
  {
   "cell_type": "markdown",
   "metadata": {},
   "source": [
    "## Taining"
   ]
  },
  {
   "cell_type": "markdown",
   "metadata": {},
   "source": [
    "#### epoch=10\n",
    "#### batch size=20\n",
    "https://machinelearningmastery.com/difference-between-a-batch-and-an-epoch/"
   ]
  },
  {
   "cell_type": "code",
   "execution_count": 22,
   "metadata": {},
   "outputs": [
    {
     "name": "stdout",
     "output_type": "stream",
     "text": [
      "Train on 3360 samples, validate on 1512 samples\n",
      "Epoch 1/10\n",
      "3360/3360 [==============================] - 9s 3ms/step - loss: 0.0997 - val_loss: 0.1239\n",
      "Epoch 2/10\n",
      "3360/3360 [==============================] - 9s 3ms/step - loss: 0.0586 - val_loss: 0.0824\n",
      "Epoch 3/10\n",
      "3360/3360 [==============================] - 9s 3ms/step - loss: 0.0507 - val_loss: 0.0759\n",
      "Epoch 4/10\n",
      "3360/3360 [==============================] - 10s 3ms/step - loss: 0.0433 - val_loss: 0.0731\n",
      "Epoch 5/10\n",
      "3360/3360 [==============================] - 10s 3ms/step - loss: 0.0404 - val_loss: 0.0622\n",
      "Epoch 6/10\n",
      "3360/3360 [==============================] - 10s 3ms/step - loss: 0.0378 - val_loss: 0.0638\n",
      "Epoch 7/10\n",
      "3360/3360 [==============================] - 9s 3ms/step - loss: 0.0357 - val_loss: 0.0578\n",
      "Epoch 8/10\n",
      "3360/3360 [==============================] - 10s 3ms/step - loss: 0.0342 - val_loss: 0.0581\n",
      "Epoch 9/10\n",
      "3360/3360 [==============================] - 11s 3ms/step - loss: 0.0323 - val_loss: 0.0587\n",
      "Epoch 10/10\n",
      "3360/3360 [==============================] - 9s 3ms/step - loss: 0.0315 - val_loss: 0.0712\n"
     ]
    }
   ],
   "source": [
    "history = model.fit(train_X, train_y, epochs=10, batch_size=20, validation_data=(test_X, test_y))"
   ]
  },
  {
   "cell_type": "markdown",
   "metadata": {},
   "source": [
    "## Evaluation "
   ]
  },
  {
   "cell_type": "markdown",
   "metadata": {},
   "source": [
    "### Comparing loss of train and test "
   ]
  },
  {
   "cell_type": "code",
   "execution_count": 23,
   "metadata": {},
   "outputs": [
    {
     "data": {
      "image/png": "[encoded data removed]",
      "text/plain": [
       "<Figure size 432x288 with 1 Axes>"
      ]
     },
     "metadata": {
      "needs_background": "light"
     },
     "output_type": "display_data"
    }
   ],
   "source": [
    "plt.plot(history.history['loss'], label='train')\n",
    "plt.plot(history.history['val_loss'], label='test')\n",
    "plt.legend()\n",
    "plt.show()"
   ]
  },
  {
   "cell_type": "markdown",
   "metadata": {},
   "source": [
    "### plot comparing predicted and test_y data"
   ]
  },
  {
   "cell_type": "code",
   "execution_count": 24,
   "metadata": {},
   "outputs": [
    {
     "data": {
      "text/plain": [
       "Text(0.5, 1.0, 'Radiation')"
      ]
     },
     "execution_count": 24,
     "metadata": {},
     "output_type": "execute_result"
    },
    {
     "data": {
      "image/png": "[encoded data removed]",
      "text/plain": [
       "<Figure size 720x576 with 1 Axes>"
      ]
     },
     "metadata": {
      "needs_background": "light"
     },
     "output_type": "display_data"
    }
   ],
   "source": [
    "plt.figure(figsize=(10, 8))\n",
    "pred = model.predict(test_X)\n",
    "test_y=pd.DataFrame(test_y)\n",
    "pred=pd.DataFrame(pred)\n",
    "#plt.plot(test_y.iloc[:200,1], label='test')\n",
    "#plt.plot(pred.iloc[:200,1], label='predicted')\n",
    "#plt.title(\"AC Power\")\n",
    "#plt.figure()\n",
    "plt.plot(test_y.iloc[:200,0])\n",
    "plt.plot(pred.iloc[:200,0])\n",
    "plt.title(\"Radiation\")"
   ]
  },
  {
   "cell_type": "markdown",
   "metadata": {},
   "source": [
    "## Evaluation Metrics\n",
    "https://otexts.com/fpp2/accuracy.html"
   ]
  },
  {
   "cell_type": "code",
   "execution_count": 25,
   "metadata": {},
   "outputs": [],
   "source": [
    "test_X=test_X.reshape(test_X.shape[0],test_X.shape[1]*test_X.shape[2])"
   ]
  },
  {
   "cell_type": "code",
   "execution_count": 26,
   "metadata": {},
   "outputs": [
    {
     "name": "stdout",
     "output_type": "stream",
     "text": [
      "Test RMSE: 36.299\n"
     ]
    }
   ],
   "source": [
    "# invert scaling for forecast\n",
    "inv_pred = concatenate((pred, test_X[:, -9:]), axis=1)\n",
    "inv_pred = scaler.inverse_transform(inv_pred)\n",
    "inv_pred = inv_pred[:,0]\n",
    "# invert scaling for actual\n",
    "test_y = np.array(test_y).reshape((len(test_y), 1))\n",
    "inv_y = concatenate((test_y, test_X[:, -9:]), axis=1)\n",
    "inv_y = scaler.inverse_transform(inv_y)\n",
    "inv_y = inv_y[:,0]\n",
    "# calculate RMSE\n",
    "rmse = sqrt(mean_squared_error(inv_y, inv_pred))\n",
    "print('Test RMSE: %.3f' % rmse)\n"
   ]
  },
  {
   "cell_type": "code",
   "execution_count": null,
   "metadata": {},
   "outputs": [],
   "source": []
  }
 ],
 "metadata": {
  "kernelspec": {
   "display_name": "Python 3",
   "language": "python",
   "name": "python3"
  },
  "language_info": {
   "codemirror_mode": {
    "name": "ipython",
    "version": 3
   },
   "file_extension": ".py",
   "mimetype": "text/x-python",
   "name": "python",
   "nbconvert_exporter": "python",
   "pygments_lexer": "ipython3",
   "version": "3.6.7"
  }
 },
 "nbformat": 4,
 "nbformat_minor": 4
}
